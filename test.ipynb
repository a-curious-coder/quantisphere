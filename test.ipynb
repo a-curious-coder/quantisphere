{
 "cells": [
  {
   "cell_type": "code",
   "execution_count": 16,
   "metadata": {},
   "outputs": [],
   "source": [
    "import pandas as pd\n",
    "from datetime import datetime, timedelta\n"
   ]
  },
  {
   "cell_type": "code",
   "execution_count": 17,
   "metadata": {},
   "outputs": [
    {
     "name": "stdout",
     "output_type": "stream",
     "text": [
      "             Date   Open   High    Low  Close\n",
      "11866  11/07/2023  21.20  21.70  20.94  21.58\n",
      "11867  12/07/2023  21.89  22.03  21.57  21.83\n",
      "11868  13/07/2023  21.95  22.15  21.74  21.82\n",
      "11869  14/07/2023  22.07  22.07  21.20  21.44\n",
      "11870  17/07/2023  21.51  21.63  21.26  21.49\n"
     ]
    }
   ],
   "source": [
    "# Load data/MAT.csv\n",
    "data = pd.read_csv(f\"data/MAT.csv\")\n",
    "# print last 5 rows of data\n",
    "print(data.tail())"
   ]
  },
  {
   "cell_type": "code",
   "execution_count": 20,
   "metadata": {},
   "outputs": [
    {
     "data": {
      "text/plain": [
       "Date      object\n",
       "Close    float64\n",
       "dtype: object"
      ]
     },
     "execution_count": 20,
     "metadata": {},
     "output_type": "execute_result"
    }
   ],
   "source": [
    "df = data[['Date', 'Close']]\n",
    "df.tail()\n",
    "df.dtypes"
   ]
  },
  {
   "cell_type": "code",
   "execution_count": 21,
   "metadata": {},
   "outputs": [
    {
     "name": "stderr",
     "output_type": "stream",
     "text": [
      "/var/folders/ns/9q89dwnd3q360t_ksqwyd8s80000gn/T/ipykernel_14864/3755327922.py:9: SettingWithCopyWarning: \n",
      "A value is trying to be set on a copy of a slice from a DataFrame.\n",
      "Try using .loc[row_indexer,col_indexer] = value instead\n",
      "\n",
      "See the caveats in the documentation: https://pandas.pydata.org/pandas-docs/stable/user_guide/indexing.html#returning-a-view-versus-a-copy\n",
      "  df['Type'] = 'Actual'\n",
      "/var/folders/ns/9q89dwnd3q360t_ksqwyd8s80000gn/T/ipykernel_14864/3755327922.py:11: SettingWithCopyWarning: \n",
      "A value is trying to be set on a copy of a slice from a DataFrame\n",
      "\n",
      "See the caveats in the documentation: https://pandas.pydata.org/pandas-docs/stable/user_guide/indexing.html#returning-a-view-versus-a-copy\n",
      "  df.loc[len(df.index)] = [future_day, 21.39, 'Predicted']\n"
     ]
    },
    {
     "data": {
      "text/html": [
       "<div>\n",
       "<style scoped>\n",
       "    .dataframe tbody tr th:only-of-type {\n",
       "        vertical-align: middle;\n",
       "    }\n",
       "\n",
       "    .dataframe tbody tr th {\n",
       "        vertical-align: top;\n",
       "    }\n",
       "\n",
       "    .dataframe thead th {\n",
       "        text-align: right;\n",
       "    }\n",
       "</style>\n",
       "<table border=\"1\" class=\"dataframe\">\n",
       "  <thead>\n",
       "    <tr style=\"text-align: right;\">\n",
       "      <th></th>\n",
       "      <th>Date</th>\n",
       "      <th>Close</th>\n",
       "      <th>Type</th>\n",
       "    </tr>\n",
       "  </thead>\n",
       "  <tbody>\n",
       "    <tr>\n",
       "      <th>11867</th>\n",
       "      <td>12/07/2023</td>\n",
       "      <td>21.83</td>\n",
       "      <td>Actual</td>\n",
       "    </tr>\n",
       "    <tr>\n",
       "      <th>11868</th>\n",
       "      <td>13/07/2023</td>\n",
       "      <td>21.82</td>\n",
       "      <td>Actual</td>\n",
       "    </tr>\n",
       "    <tr>\n",
       "      <th>11869</th>\n",
       "      <td>14/07/2023</td>\n",
       "      <td>21.44</td>\n",
       "      <td>Actual</td>\n",
       "    </tr>\n",
       "    <tr>\n",
       "      <th>11870</th>\n",
       "      <td>17/07/2023</td>\n",
       "      <td>21.49</td>\n",
       "      <td>Actual</td>\n",
       "    </tr>\n",
       "    <tr>\n",
       "      <th>11871</th>\n",
       "      <td>18/07/2023</td>\n",
       "      <td>21.39</td>\n",
       "      <td>Predicted</td>\n",
       "    </tr>\n",
       "  </tbody>\n",
       "</table>\n",
       "</div>"
      ],
      "text/plain": [
       "             Date  Close       Type\n",
       "11867  12/07/2023  21.83     Actual\n",
       "11868  13/07/2023  21.82     Actual\n",
       "11869  14/07/2023  21.44     Actual\n",
       "11870  17/07/2023  21.49     Actual\n",
       "11871  18/07/2023  21.39  Predicted"
      ]
     },
     "execution_count": 21,
     "metadata": {},
     "output_type": "execute_result"
    }
   ],
   "source": [
    "# Get latest date from test data\n",
    "today = df['Date'].iloc[-1]\n",
    "# get the next day in dd/mm/yyyy format\n",
    "today = datetime.strptime(today, '%d/%m/%Y') + timedelta(days=1)\n",
    "future_day = today.strftime('%d/%m/%Y')\n",
    "\n",
    "# Add column for type of price\n",
    "df['Type'] = 'Actual'\n",
    "# Add row to df\n",
    "df.loc[len(df.index)] = [future_day, 21.39, 'Predicted']\n",
    "df.tail()\n"
   ]
  }
 ],
 "metadata": {
  "kernelspec": {
   "display_name": ".venv",
   "language": "python",
   "name": "python3"
  },
  "language_info": {
   "codemirror_mode": {
    "name": "ipython",
    "version": 3
   },
   "file_extension": ".py",
   "mimetype": "text/x-python",
   "name": "python",
   "nbconvert_exporter": "python",
   "pygments_lexer": "ipython3",
   "version": "3.8.5"
  },
  "orig_nbformat": 4
 },
 "nbformat": 4,
 "nbformat_minor": 2
}
