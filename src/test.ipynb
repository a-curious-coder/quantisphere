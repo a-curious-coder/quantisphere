{
 "cells": [
  {
   "cell_type": "code",
   "execution_count": 1,
   "metadata": {},
   "outputs": [],
   "source": [
    "from data_collector import load_model, load_data, preprocess_data,make_predictions, prepare_testing_data, save_model, split_data, create_input_target, reshape_input, create_model\n",
    "from utils import clear_and_show_title, ensure_folders_exist\n",
    "from sklearn.model_selection import train_test_split\n",
    "from datetime import datetime, timedelta\n",
    "import pandas as pd\n",
    "import numpy as np\n",
    "import os"
   ]
  },
  {
   "cell_type": "code",
   "execution_count": 2,
   "metadata": {},
   "outputs": [],
   "source": [
    "# If in src folder, go back to root folder\n",
    "if os.getcwd().split('/')[-1] == 'src':\n",
    "    os.chdir('..')\n",
    "    "
   ]
  },
  {
   "cell_type": "code",
   "execution_count": 3,
   "metadata": {},
   "outputs": [
    {
     "name": "stdout",
     "output_type": "stream",
     "text": [
      "\u001b[H\u001b[2J===================================\n",
      "||          WELCOME TO            ||\n",
      "||        CRYPTO-ANALYST          ||\n",
      "||         VERSION 1.0.0          ||\n",
      "===================================\n",
      "(9496, 1) (2375, 1) (11871, 1)\n",
      "True\n"
     ]
    }
   ],
   "source": [
    "clear_and_show_title()\n",
    "validation_size = 0.2\n",
    "placeholder_symbol = \"MAT\"\n",
    "train_n_days = 90\n",
    "model = load_model()\n",
    "data = load_data(stock=\"MAT\")\n",
    "# NOTE: Scaled all data; we will save for rescaling later\n",
    "scaler, scaled_data = preprocess_data(data)\n",
    "scaled_train_data, scaled_test_data = split_data(scaled_data)\n",
    "print(scaled_train_data.shape, scaled_test_data.shape, scaled_data.shape)\n",
    "print(scaled_train_data.shape[0] + scaled_test_data.shape[0] == scaled_data.shape[0])"
   ]
  },
  {
   "cell_type": "code",
   "execution_count": 6,
   "metadata": {},
   "outputs": [
    {
     "ename": "AttributeError",
     "evalue": "'numpy.ndarray' object has no attribute 'reshae'",
     "output_type": "error",
     "traceback": [
      "\u001b[0;31m---------------------------------------------------------------------------\u001b[0m",
      "\u001b[0;31mAttributeError\u001b[0m                            Traceback (most recent call last)",
      "Cell \u001b[0;32mIn[6], line 2\u001b[0m\n\u001b[1;32m      1\u001b[0m model_inputs \u001b[39m=\u001b[39m scaled_data[\u001b[39mlen\u001b[39m(scaled_data) \u001b[39m-\u001b[39m \u001b[39mlen\u001b[39m(scaled_test_data) \u001b[39m-\u001b[39m train_n_days:]\u001b[39m.\u001b[39mvalues\n\u001b[0;32m----> 2\u001b[0m model_inputs \u001b[39m=\u001b[39m model_inputs\u001b[39m.\u001b[39;49mreshae(\u001b[39m-\u001b[39m\u001b[39m1\u001b[39m, \u001b[39m1\u001b[39m)\n\u001b[1;32m      3\u001b[0m \u001b[39mprint\u001b[39m(model_inputs\u001b[39m.\u001b[39mshape)\n\u001b[1;32m      5\u001b[0m x_test \u001b[39m=\u001b[39m []\n",
      "\u001b[0;31mAttributeError\u001b[0m: 'numpy.ndarray' object has no attribute 'reshae'"
     ]
    }
   ],
   "source": [
    "model_inputs = scaled_data[len(scaled_data) - len(scaled_test_data) - train_n_days:].values\n",
    "model_inputs = model_inputs.reshae(-1, 1)\n",
    "print(model_inputs.shape)\n",
    "\n",
    "x_test = []\n",
    "# \n",
    "for x in range(train_n_days, len(model_inputs)):\n",
    "    x_test.append(model_inputs[x - train_n_days:x, 0])\n",
    "\n",
    "print(x_test)\n",
    "x_test = np.array(x_test)\n",
    "x_test = np.reshape(x_test, (x_test.shape[0], x_test.shape[1], 1))\n",
    "\n",
    "prediction_prices = make_predictions(model, x_test, scaler)\n",
    "print(prediction_prices)\n"
   ]
  },
  {
   "cell_type": "code",
   "execution_count": 7,
   "metadata": {},
   "outputs": [
    {
     "name": "stdout",
     "output_type": "stream",
     "text": [
      "[INFO]\tModel loaded from storage.\n",
      "75/75 [==============================] - 1s 17ms/step\n"
     ]
    },
    {
     "ename": "NameError",
     "evalue": "name 'test_data' is not defined",
     "output_type": "error",
     "traceback": [
      "\u001b[0;31m---------------------------------------------------------------------------\u001b[0m",
      "\u001b[0;31mNameError\u001b[0m                                 Traceback (most recent call last)",
      "Cell \u001b[0;32mIn[7], line 15\u001b[0m\n\u001b[1;32m     12\u001b[0m predicted_prices \u001b[39m=\u001b[39m make_predictions(model, x_test, scaler)\n\u001b[1;32m     13\u001b[0m \u001b[39m# Create a dataframe containing two columns. One column with price and the other column stating whether the price is actual or predicted then merge into a single dataframe\u001b[39;00m\n\u001b[1;32m     14\u001b[0m \u001b[39m# Filter test data to last n days\u001b[39;00m\n\u001b[0;32m---> 15\u001b[0m test_data \u001b[39m=\u001b[39m test_data[\u001b[39m-\u001b[39m\u001b[39m90\u001b[39m:]\n\u001b[1;32m     16\u001b[0m \u001b[39m# Create a new column indicating whether the price is actual or predicted\u001b[39;00m\n\u001b[1;32m     17\u001b[0m test_data[\u001b[39m'\u001b[39m\u001b[39mType\u001b[39m\u001b[39m'\u001b[39m] \u001b[39m=\u001b[39m \u001b[39m'\u001b[39m\u001b[39mActual\u001b[39m\u001b[39m'\u001b[39m\n",
      "\u001b[0;31mNameError\u001b[0m: name 'test_data' is not defined"
     ]
    }
   ],
   "source": [
    "\n",
    "if model is None:\n",
    "    x_train, y_train = create_input_target(train_data, train_n_days)\n",
    "    x_train = reshape_input(x_train)\n",
    "    # NOTE: We will use the last 20% of the training data as validation data\n",
    "    x_train, x_val, y_train, y_val = train_test_split(x_train, y_train, test_size=validation_size, shuffle=False)\n",
    "    model, _ = create_model(x_train, y_train, x_val, y_val)  # Modify this line\n",
    "    save_model(model)\n",
    "else:\n",
    "    print(\"[INFO]\\tModel loaded from storage.\")\n",
    "\n",
    "\n",
    "predicted_prices = make_predictions(model, x_test, scaler)\n",
    "# Create a dataframe containing two columns. One column with price and the other column stating whether the price is actual or predicted then merge into a single dataframe\n",
    "# Filter test data to last n days\n",
    "test_data = test_data[-90:]\n",
    "# Create a new column indicating whether the price is actual or predicted\n",
    "test_data['Type'] = 'Actual'\n",
    "\n",
    "# Get latest date from test data\n",
    "today = test_data['Date'].iloc[-1]\n",
    "# get the next day in dd/mm/yyyy format\n",
    "today = datetime.strptime(today, '%d/%m/%Y') + timedelta(days=1)\n",
    "future_day = today.strftime('%d/%m/%Y')\n",
    "\n",
    "# Add predicted prices as new row to test data for next day (i.e. the day after the last day of the test data)\n",
    "test_data = test_data.append({'Date': future_day, 'Close': predicted_prices[0][0], 'Type': 'Predicted'}, ignore_index=True)\n",
    "test_data.to_csv(\"results/test_data.csv\", index=False)\n",
    "print(test_data.tail())"
   ]
  },
  {
   "cell_type": "code",
   "execution_count": null,
   "metadata": {},
   "outputs": [],
   "source": []
  },
  {
   "cell_type": "code",
   "execution_count": null,
   "metadata": {},
   "outputs": [],
   "source": []
  },
  {
   "cell_type": "code",
   "execution_count": null,
   "metadata": {},
   "outputs": [],
   "source": []
  },
  {
   "cell_type": "code",
   "execution_count": null,
   "metadata": {},
   "outputs": [],
   "source": []
  },
  {
   "cell_type": "code",
   "execution_count": null,
   "metadata": {},
   "outputs": [],
   "source": []
  },
  {
   "cell_type": "code",
   "execution_count": null,
   "metadata": {},
   "outputs": [],
   "source": []
  },
  {
   "cell_type": "code",
   "execution_count": null,
   "metadata": {},
   "outputs": [],
   "source": []
  },
  {
   "cell_type": "code",
   "execution_count": null,
   "metadata": {},
   "outputs": [],
   "source": []
  },
  {
   "cell_type": "code",
   "execution_count": null,
   "metadata": {},
   "outputs": [],
   "source": []
  },
  {
   "cell_type": "code",
   "execution_count": null,
   "metadata": {},
   "outputs": [],
   "source": []
  },
  {
   "cell_type": "code",
   "execution_count": null,
   "metadata": {},
   "outputs": [],
   "source": []
  },
  {
   "cell_type": "code",
   "execution_count": null,
   "metadata": {},
   "outputs": [],
   "source": []
  },
  {
   "cell_type": "code",
   "execution_count": null,
   "metadata": {},
   "outputs": [],
   "source": []
  },
  {
   "cell_type": "code",
   "execution_count": null,
   "metadata": {},
   "outputs": [],
   "source": []
  },
  {
   "cell_type": "code",
   "execution_count": null,
   "metadata": {},
   "outputs": [],
   "source": []
  },
  {
   "cell_type": "code",
   "execution_count": null,
   "metadata": {},
   "outputs": [],
   "source": []
  },
  {
   "cell_type": "code",
   "execution_count": null,
   "metadata": {},
   "outputs": [],
   "source": []
  },
  {
   "cell_type": "code",
   "execution_count": null,
   "metadata": {},
   "outputs": [],
   "source": []
  },
  {
   "cell_type": "code",
   "execution_count": null,
   "metadata": {},
   "outputs": [],
   "source": []
  },
  {
   "cell_type": "code",
   "execution_count": null,
   "metadata": {},
   "outputs": [],
   "source": []
  },
  {
   "cell_type": "code",
   "execution_count": null,
   "metadata": {},
   "outputs": [],
   "source": []
  },
  {
   "cell_type": "code",
   "execution_count": null,
   "metadata": {},
   "outputs": [],
   "source": []
  },
  {
   "cell_type": "code",
   "execution_count": null,
   "metadata": {},
   "outputs": [],
   "source": []
  },
  {
   "cell_type": "code",
   "execution_count": null,
   "metadata": {},
   "outputs": [],
   "source": []
  },
  {
   "cell_type": "code",
   "execution_count": null,
   "metadata": {},
   "outputs": [],
   "source": []
  },
  {
   "cell_type": "code",
   "execution_count": null,
   "metadata": {},
   "outputs": [],
   "source": []
  }
 ],
 "metadata": {
  "kernelspec": {
   "display_name": ".venv",
   "language": "python",
   "name": "python3"
  },
  "language_info": {
   "codemirror_mode": {
    "name": "ipython",
    "version": 3
   },
   "file_extension": ".py",
   "mimetype": "text/x-python",
   "name": "python",
   "nbconvert_exporter": "python",
   "pygments_lexer": "ipython3",
   "version": "3.8.5"
  },
  "orig_nbformat": 4
 },
 "nbformat": 4,
 "nbformat_minor": 2
}
