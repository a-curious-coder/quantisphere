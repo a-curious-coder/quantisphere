{
 "cells": [
  {
   "cell_type": "code",
   "execution_count": 1,
   "metadata": {},
   "outputs": [],
   "source": [
    "from data_collector import DataCollector\n",
    "from data_preprocessor import DataPreprocessor\n",
    "from model_handler import ModelHandler\n",
    "from utils import clear_and_show_title, ensure_folders_exist\n",
    "from sklearn.model_selection import train_test_split\n",
    "from datetime import datetime, timedelta\n",
    "import pandas as pd\n",
    "import numpy as np\n",
    "import os"
   ]
  },
  {
   "cell_type": "code",
   "execution_count": 2,
   "metadata": {},
   "outputs": [
    {
     "name": "stdout",
     "output_type": "stream",
     "text": [
      "c:\\Users\\callu\\Desktop\\The Lab\\Brainchildren\\crypto-analyst\n"
     ]
    }
   ],
   "source": [
    "# If in src folder, go back to root folder\n",
    "if os.getcwd().split('\\\\')[-1] == 'src':\n",
    "    os.chdir('..')\n",
    "print(os.getcwd())\n",
    "asset_type = \"stock\"\n",
    "placeholder_symbol = \"MAT\"\n",
    "validation_size = 0.2\n",
    "train_days = 90"
   ]
  },
  {
   "cell_type": "code",
   "execution_count": 5,
   "metadata": {},
   "outputs": [
    {
     "name": "stdout",
     "output_type": "stream",
     "text": [
      "   A  B  C\n",
      "0  1  4  7\n",
      "1  2  5  8\n",
      "2  3  6  9\n",
      "\n",
      "   A  B\n",
      "1  2  5\n",
      "2  3  6\n"
     ]
    }
   ],
   "source": [
    "import pandas as pd\n",
    "\n",
    "# Create a Pandas DataFrame\n",
    "df = pd.DataFrame({'A': [1, 2, 3], 'B': [4, 5, 6], 'C': [7, 8, 9]})\n",
    "print(df.head())\n",
    "# Slice the DataFrame\n",
    "sliced_df = df.iloc[1:, :2]\n",
    "print()\n",
    "print(sliced_df)"
   ]
  }
 ],
 "metadata": {
  "kernelspec": {
   "display_name": ".venv",
   "language": "python",
   "name": "python3"
  },
  "language_info": {
   "codemirror_mode": {
    "name": "ipython",
    "version": 3
   },
   "file_extension": ".py",
   "mimetype": "text/x-python",
   "name": "python",
   "nbconvert_exporter": "python",
   "pygments_lexer": "ipython3",
   "version": "3.10.9"
  },
  "orig_nbformat": 4
 },
 "nbformat": 4,
 "nbformat_minor": 2
}
